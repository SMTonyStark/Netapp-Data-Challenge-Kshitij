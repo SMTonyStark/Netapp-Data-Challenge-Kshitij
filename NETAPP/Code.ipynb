{
 "cells": [
  {
   "cell_type": "code",
   "execution_count": 1,
   "metadata": {},
   "outputs": [],
   "source": [
    "import numpy as np \n",
    "import pandas as pd \n",
    "import matplotlib.pylab as plt\n",
    "import json, argparse, os\n",
    "from pathlib import Path\n",
    "import fasttext"
   ]
  },
  {
   "cell_type": "code",
   "execution_count": 2,
   "metadata": {},
   "outputs": [],
   "source": [
    "label2category = {0:'impact', 1:'black voices', 2:'entertainment', 3:'queer voices', 4:'religion', 5:'parenting', 6:'comedy', 7:'business', \n",
    "8:'travel', 9:'arts & culture', 10:'education', 11:'parents', 12:'crime', 13:'money', 14:'worldpost', 15:'food & drink', 16:'sports', \n",
    "17:'good news', 18:'culture & arts', 19:'the worldpost', 20:'environment', 21:'politics', 22:'science', 23:'weird news', 24:'arts', \n",
    "25:'healthy living', 26:'world news', 27:'media', 28:'latino voices', 29:'college', 30:'divorce', 31:'green', 32:'style', 33:'tech', \n",
    "34:'weddings', 35:'home & living', 36:'wellness', 37:'fifty', 38:'style & beauty', 39:'women', 40:'taste'}"
   ]
  },
  {
   "cell_type": "code",
   "execution_count": 3,
   "metadata": {},
   "outputs": [],
   "source": [
    "category2label = {'impact':0, 'black voices':1, 'entertainment':2, 'queer voices':3, 'religion':4, 'parenting':5, 'comedy':6, 'business':7, \n",
    "'travel':8, 'arts & culture':9, 'education':10, 'parents':11, 'crime':12, 'money':13, 'worldpost':14, 'food & drink':15, 'sports':16, \n",
    "'good news':17, 'culture & arts':18, 'the worldpost':19, 'environment':20, 'politics':21, 'science':22, 'weird news':23, 'arts':24, \n",
    "'healthy living':25, 'world news':26, 'media':27, 'latino voices':28, 'college':29, 'divorce':30, 'green':31, 'style':32, 'tech':33, \n",
    "'weddings':34, 'home & living':35, 'wellness':36, 'fifty':37, 'style & beauty':38, 'women':39, 'taste':40}"
   ]
  },
  {
   "cell_type": "code",
   "execution_count": 32,
   "metadata": {},
   "outputs": [],
   "source": [
    "data = \"dataset.json\"\n",
    "training_data = Path(\"fasttext_dataset_train.txt\")\n",
    "test_data = Path(\"fasttext_dataset_test.txt\")\n"
   ]
  },
  {
   "cell_type": "code",
   "execution_count": 6,
   "metadata": {},
   "outputs": [],
   "source": [
    "#Percentage of data in train and test set\n",
    "percent_test_data = 0.25\n"
   ]
  },
  {
   "cell_type": "code",
   "execution_count": 7,
   "metadata": {},
   "outputs": [],
   "source": [
    "#Preprocessing and Formatting\n",
    "import re\n",
    "import random\n",
    "import nltk\n",
    "from nltk.corpus import stopwords\n",
    "from nltk.stem.porter import PorterStemmer\n",
    "from nltk.stem.wordnet import WordNetLemmatizer\n",
    "ps = PorterStemmer()"
   ]
  },
  {
   "cell_type": "code",
   "execution_count": 8,
   "metadata": {},
   "outputs": [],
   "source": [
    "\n",
    "def strip_formatting(string):\n",
    "    string = string.lower()\n",
    "    string = re.sub('[^a-zA-Z]', ' ', string)\n",
    "    string = string.split()\n",
    "    string = [ps.stem(word) for word in string if not word in set(stopwords.words('english'))]\n",
    "    string = ' '.join(string)\n",
    "    \n",
    "    return(string)\n",
    "    "
   ]
  },
  {
   "cell_type": "code",
   "execution_count": 36,
   "metadata": {},
   "outputs": [
    {
     "name": "stdout",
     "output_type": "stream",
     "text": [
      "<class 'list'>\n",
      "{'category': 'entertainment', 'id': 6, 'short_description': '\"It is not right to equate horrific incidents of sexual assault with misplaced compliments or humor,\" he said in a statement.', 'headline': \"Morgan Freeman 'Devastated' That Sexual Harassment Claims Could Undermine Legacy\"}\n"
     ]
    }
   ],
   "source": [
    "inputFile = open(data, 'r', encoding=\"utf8\") #open json file\n",
    "data1 = json.load(inputFile) #load json content\n",
    "print(type(data1))\n",
    "print(data1[5])"
   ]
  },
  {
   "cell_type": "code",
   "execution_count": 37,
   "metadata": {},
   "outputs": [
    {
     "name": "stdout",
     "output_type": "stream",
     "text": [
      "<class 'list'>\n"
     ]
    }
   ],
   "source": [
    "inputFile = open(data, 'r', encoding=\"utf8\") #open json file\n",
    "data1 = json.load(inputFile) #load json content\n",
    "print(type(data1))\n",
    "with training_data.open(\"a\") as train_output, \\\n",
    "     test_data.open(\"a\") as test_output:\n",
    "\n",
    "    for line in data1:\n",
    "        news_data = line\n",
    "        \n",
    "        label = news_data['category']\n",
    "        news_data['text'] = news_data['headline'] + \" \" + news_data['short_description']\n",
    "        text = news_data['text'].replace(\"\\n\", \" \")\n",
    "        text = strip_formatting(text)\n",
    "\n",
    "        fasttext_line = \"__label__{} {}\".format(label, text)\n",
    "\n",
    "        if random.random() <= percent_test_data:\n",
    "            test_output.write(fasttext_line + \"\\n\")\n",
    "        else:\n",
    "            train_output.write(fasttext_line + \"\\n\")    "
   ]
  },
  {
   "cell_type": "code",
   "execution_count": null,
   "metadata": {},
   "outputs": [],
   "source": [
    "#Model Building\n",
    "            \n",
    "classifier = fasttext.load_model('model.bin', encoding = 'utf-8')\n",
    "\n",
    "#model = fasttext.skipgram('fasttext_dataset_train.txt', 'model')\n",
    "\n",
    "model = fasttext.cbow('fasttext_dataset_train.txt','model',dim=150,ws=5,epoch=5,neg=10,min_count=1)\n",
    "\n",
    "classifier = fasttext.supervised(input_file=\"fasttext_dataset_train.txt\",\n",
    "                                     output='model',\n",
    "                                     dim = 150,\n",
    "                                     lr=0.01,\n",
    "                                     epoch = 50,minn=1,maxn=10)\n",
    "                                     \n",
    "\n",
    "result = classifier.test('fasttext_dataset_test.txt')\n",
    "print ('P@1:', result.precision)\n",
    "print ('R@1:', result.recall)\n",
    "print ('Number of examples:', result.nexamples)\n",
    "\n",
    "texts = ['former disney exec launch social network girl maverick aim connect empow young women girl']\n",
    "print (classifier.predict(texts, k=10))"
   ]
  },
  {
   "cell_type": "code",
   "execution_count": null,
   "metadata": {},
   "outputs": [],
   "source": []
  }
 ],
 "metadata": {
  "kernelspec": {
   "display_name": "Python 3",
   "language": "python",
   "name": "python3"
  },
  "language_info": {
   "codemirror_mode": {
    "name": "ipython",
    "version": 3
   },
   "file_extension": ".py",
   "mimetype": "text/x-python",
   "name": "python",
   "nbconvert_exporter": "python",
   "pygments_lexer": "ipython3",
   "version": "3.5.2"
  }
 },
 "nbformat": 4,
 "nbformat_minor": 2
}
