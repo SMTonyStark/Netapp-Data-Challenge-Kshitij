{
 "cells": [
  {
   "cell_type": "code",
   "execution_count": 12,
   "metadata": {},
   "outputs": [],
   "source": [
    "import numpy as np\n",
    "import pandas as pd\n",
    "import tensorflow as tf\n",
    "from sklearn.model_selection import train_test_split\n",
    "from nltk.tokenize import RegexpTokenizer\n",
    "import math\n",
    "import gensim\n",
    "from gensim.models import Word2Vec\n",
    "from gensim.models import FastText"
   ]
  },
  {
   "cell_type": "code",
   "execution_count": 2,
   "metadata": {},
   "outputs": [],
   "source": [
    "data = pd.read_csv(\"train.csv\",dtype=object,na_values=str).values"
   ]
  },
  {
   "cell_type": "code",
   "execution_count": 3,
   "metadata": {},
   "outputs": [],
   "source": [
    "x = np.array(data[:,2:4])\n",
    "y = np.array(data[:,1])"
   ]
  },
  {
   "cell_type": "code",
   "execution_count": 4,
   "metadata": {},
   "outputs": [],
   "source": [
    "X_train, X_test, y_train, y_test = train_test_split(x, y, test_size=0.33)"
   ]
  },
  {
   "cell_type": "code",
   "execution_count": 5,
   "metadata": {},
   "outputs": [],
   "source": [
    "corpus_raw = []\n",
    "for i in range(0,x.shape[0]):\n",
    "    for sent in x[i]:\n",
    "        if np.nan_to_num(sent) != 0:\n",
    "            corpus_raw.append(sent)"
   ]
  },
  {
   "cell_type": "code",
   "execution_count": 6,
   "metadata": {},
   "outputs": [
    {
     "name": "stdout",
     "output_type": "stream",
     "text": [
      "['There Were 2 Mass Shootings In Texas Last Week, But Only 1 On TV', 'She left her husband. He killed their children. Just another day in America.', \"Will Smith Joins Diplo And Nicky Jam For The 2018 World Cup's Official Song\", 'Of course it has a song.', 'Hugh Grant Marries For The First Time At Age 57']\n",
      "(381946,)\n",
      "<class 'str'>\n",
      "It Only Took 56 Years, But Now You Can Actually Have Breakfast At Tiffany's\n"
     ]
    }
   ],
   "source": [
    "print(corpus_raw[0:5])\n",
    "print(np.shape(corpus_raw))\n",
    "print(type(corpus_raw[24199]))\n",
    "#words = corpus_raw[0].split()\n",
    "#print(words)\n",
    "print(np.nan_to_num(corpus_raw[24199]))"
   ]
  },
  {
   "cell_type": "code",
   "execution_count": 7,
   "metadata": {},
   "outputs": [],
   "source": [
    "# # List of words\n",
    "# words = []\n",
    "# tokenizer = RegexpTokenizer(r'\\w+')\n",
    "# i = 0\n",
    "# for sent in corpus_raw:\n",
    "#     #words.append(sent.split())\n",
    "#     #i = i + 1\n",
    "#     #print(i)\n",
    "#     for word in tokenizer.tokenize(sent):\n",
    "#         words.append(word)\n",
    "    \n",
    "# # for i in range(0,len(corpus_raw)):\n",
    "# #     for word in corpus_raw[i].split():\n",
    "# #         if word != '.':       # because we don't want to treat . as a word\n",
    "# #             words.append(word)\n",
    "# #print(type(words))\n",
    "# #words = np.array(words)\n",
    "# #print(type(words))\n",
    "# #print(len(words))\n",
    "# #print(words[0])\n",
    "\n",
    "# Vocab = set(words)    # so that all duplicate words are removed\n",
    "# vocab = list(Vocab)\n",
    "# # vocab = []\n",
    "# # for j in words:\n",
    "# #     if j not in vocab:\n",
    "# #         vocab.append(j)\n",
    "\n",
    "\n",
    "# word2int = {}\n",
    "# int2word = {}\n",
    "# vocab_size = len(vocab)  # gives the total number of unique words\n",
    "\n",
    "# for i,word in enumerate(vocab):\n",
    "#     word2int[word] = i\n",
    "#     int2word[i] = word"
   ]
  },
  {
   "cell_type": "code",
   "execution_count": 8,
   "metadata": {},
   "outputs": [],
   "source": [
    "# List of lists of words\n",
    "words = []\n",
    "sentences = []\n",
    "tokenizer = RegexpTokenizer(r'\\w+')\n",
    "i = 0\n",
    "for sent in corpus_raw:\n",
    "    #words.append(sent.split())\n",
    "    #i = i + 1\n",
    "    #print(i)\n",
    "    for word in tokenizer.tokenize(sent):\n",
    "        words.append(word)\n",
    "    sentences.append(words)\n",
    "    words = []\n",
    "# for i in range(0,len(corpus_raw)):\n",
    "#     for word in corpus_raw[i].split():\n",
    "#         if word != '.':       # because we don't want to treat . as a word\n",
    "#             words.append(word)\n",
    "#print(type(words))\n",
    "#words = np.array(words)\n",
    "#print(type(words))\n",
    "#print(len(words))\n",
    "#print(words[0])\n",
    "\n",
    "Vocab = set(words)    # so that all duplicate words are removed\n",
    "vocab = list(Vocab)\n",
    "# vocab = []\n",
    "# for j in words:\n",
    "#     if j not in vocab:\n",
    "#         vocab.append(j)\n",
    "\n",
    "\n",
    "word2int = {}\n",
    "int2word = {}\n",
    "vocab_size = len(vocab)  # gives the total number of unique words\n",
    "\n",
    "for i,word in enumerate(vocab):\n",
    "    word2int[word] = i\n",
    "    int2word[i] = word"
   ]
  },
  {
   "cell_type": "code",
   "execution_count": 9,
   "metadata": {},
   "outputs": [
    {
     "name": "stdout",
     "output_type": "stream",
     "text": [
      "0\n",
      "0\n",
      "[]\n",
      "<class 'list'>\n",
      "0\n",
      "0\n",
      "381946\n",
      "[['There', 'Were', '2', 'Mass', 'Shootings', 'In', 'Texas', 'Last', 'Week', 'But', 'Only', '1', 'On', 'TV'], ['She', 'left', 'her', 'husband', 'He', 'killed', 'their', 'children', 'Just', 'another', 'day', 'in', 'America'], ['Will', 'Smith', 'Joins', 'Diplo', 'And', 'Nicky', 'Jam', 'For', 'The', '2018', 'World', 'Cup', 's', 'Official', 'Song'], ['Of', 'course', 'it', 'has', 'a', 'song'], ['Hugh', 'Grant', 'Marries', 'For', 'The', 'First', 'Time', 'At', 'Age', '57']]\n"
     ]
    }
   ],
   "source": [
    "print(len(words))\n",
    "print(vocab_size)\n",
    "print(words[0:100])\n",
    "print(type(vocab))\n",
    "#Vocab = list(vocab)\n",
    "#print(vocab[0:100])\n",
    "# for i in range(0,5):\n",
    "#     print(i)\n",
    "# for sent in corpus_raw:\n",
    "#     print(type(sent))\n",
    "print(len(word2int))\n",
    "print(len(int2word))\n",
    "#print(int2word)\n",
    "print(len(sentences))\n",
    "print(sentences[0:5])"
   ]
  },
  {
   "cell_type": "code",
   "execution_count": 10,
   "metadata": {},
   "outputs": [],
   "source": [
    "sentences = np.array(sentences)"
   ]
  },
  {
   "cell_type": "code",
   "execution_count": 11,
   "metadata": {},
   "outputs": [
    {
     "data": {
      "text/plain": [
       "(52515814, 60798860)"
      ]
     },
     "execution_count": 11,
     "metadata": {},
     "output_type": "execute_result"
    }
   ],
   "source": [
    "model_word2vec = Word2Vec(sentences, size=100, window=5, min_count=0,workers=10,sg=0)\n",
    "model_word2vec.train(sentences,total_examples=len(sentences),epochs=10)"
   ]
  },
  {
   "cell_type": "code",
   "execution_count": 25,
   "metadata": {},
   "outputs": [
    {
     "name": "stdout",
     "output_type": "stream",
     "text": [
      "Word2Vec(vocab=119541, size=100, alpha=0.025)\n",
      "[ 0.4285046   1.2421902   0.04406258  0.9532548   1.8164872   1.2857362\n",
      " -0.5815768  -0.00954799 -1.9732322  -2.3031847   1.3790758  -0.89987016\n",
      "  0.23179498  0.03755049  1.782423    1.6619494  -0.89666456  0.0864789\n",
      " -1.5873101   0.6662089  -3.552163    0.71382254 -0.26027563 -0.8487275\n",
      "  2.1619277   0.7456707   2.9697683  -0.04196072  1.2063458  -1.3433118\n",
      "  0.91262275  1.579411   -1.2531818  -0.20206904 -1.2620555  -0.8373699\n",
      " -0.05253686 -1.9001051  -1.7895435  -0.24958616 -0.8152119   0.7400795\n",
      " -0.5721993  -0.5041809  -0.72641313 -0.731993    1.368076   -0.4689273\n",
      " -0.32739025  0.07862505 -0.7061244  -1.2622186  -0.7457182  -1.0381217\n",
      " -0.42301944 -1.4074955   1.8881702  -0.42913076 -1.9514436   1.9845775\n",
      " -0.18126355  1.7782911  -0.24688113 -0.30695072  0.7763408  -1.6409359\n",
      "  0.23095024  0.92030704 -0.8762613   0.5750998   0.34902522 -0.27236488\n",
      " -0.58173716  0.4702944   0.24910961  0.4288798  -0.75024635  0.11676795\n",
      " -0.8336548  -1.0290872  -0.14067863 -1.3911631   0.94128764 -0.4224795\n",
      "  0.49940735  0.05990976  0.85942346  0.22527698 -1.6076148   0.81185645\n",
      " -0.7807333   0.04569636  1.2014525  -0.21840952 -0.10769704  0.06949759\n",
      " -0.59666526 -0.4595677  -0.44049025 -0.6057753 ]\n",
      "[('mass', 0.7393441200256348), ('shooting', 0.7342313528060913), ('deaths', 0.7102330923080444), ('incidents', 0.7080414295196533), ('massacre', 0.692335844039917), ('killings', 0.66685551404953), ('murders', 0.6518399715423584), ('Newtown', 0.6412099003791809), ('homicides', 0.6367049217224121), ('protests', 0.6365783214569092)]\n"
     ]
    },
    {
     "name": "stderr",
     "output_type": "stream",
     "text": [
      "/usr/local/lib/python3.5/dist-packages/ipykernel_launcher.py:2: DeprecationWarning: Call to deprecated `__getitem__` (Method will be removed in 4.0.0, use self.wv.__getitem__() instead).\n",
      "  \n"
     ]
    }
   ],
   "source": [
    "print(model_word2vec)\n",
    "print(model_word2vec['killing'])\n",
    "print(model_word2vec.wv.most_similar(\"shootings\"))"
   ]
  },
  {
   "cell_type": "code",
   "execution_count": 26,
   "metadata": {},
   "outputs": [],
   "source": [
    "model_word2vec.save(\"Saved_model_word2vec\")"
   ]
  },
  {
   "cell_type": "code",
   "execution_count": 27,
   "metadata": {},
   "outputs": [
    {
     "name": "stdout",
     "output_type": "stream",
     "text": [
      "Word2Vec(vocab=119541, size=100, alpha=0.025)\n"
     ]
    }
   ],
   "source": [
    "loaded_model = Word2Vec.load(\"Saved_model_word2vec\")\n",
    "print(loaded_model)"
   ]
  },
  {
   "cell_type": "code",
   "execution_count": null,
   "metadata": {},
   "outputs": [],
   "source": []
  }
 ],
 "metadata": {
  "kernelspec": {
   "display_name": "Python 3",
   "language": "python",
   "name": "python3"
  },
  "language_info": {
   "codemirror_mode": {
    "name": "ipython",
    "version": 3
   },
   "file_extension": ".py",
   "mimetype": "text/x-python",
   "name": "python",
   "nbconvert_exporter": "python",
   "pygments_lexer": "ipython3",
   "version": "3.5.2"
  }
 },
 "nbformat": 4,
 "nbformat_minor": 2
}
