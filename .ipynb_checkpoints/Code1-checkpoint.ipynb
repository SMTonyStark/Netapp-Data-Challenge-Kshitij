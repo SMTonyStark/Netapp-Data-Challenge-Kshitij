{
 "cells": [
  {
   "cell_type": "code",
   "execution_count": null,
   "metadata": {},
   "outputs": [],
   "source": [
    "import numpy as np\n",
    "import pandas as pd\n",
    "import tensorflow as tf\n",
    "from sklearn.model_selection import train_test_split\n",
    "from nltk.tokenize import RegexpTokenizer\n",
    "import math\n",
    "import gensim\n",
    "from gensim.models import Word2Vec"
   ]
  },
  {
   "cell_type": "code",
   "execution_count": 395,
   "metadata": {},
   "outputs": [],
   "source": [
    "data = pd.read_csv(\"train.csv\",dtype=object,na_values=str).values"
   ]
  },
  {
   "cell_type": "code",
   "execution_count": 396,
   "metadata": {},
   "outputs": [
    {
     "name": "stdout",
     "output_type": "stream",
     "text": [
      "['4' 'entertainment'\n",
      " \"Jim Carrey Blasts 'Castrato' Adam Schiff And Democrats In New Artwork\"\n",
      " 'The actor gives Dems an ass-kicking for not fighting hard enough against Donald Trump.']\n"
     ]
    }
   ],
   "source": [
    "print(data[3])"
   ]
  },
  {
   "cell_type": "code",
   "execution_count": 397,
   "metadata": {},
   "outputs": [
    {
     "name": "stdout",
     "output_type": "stream",
     "text": [
      "<class 'str'>\n",
      "<class 'numpy.ndarray'>\n",
      "(200832, 4)\n"
     ]
    }
   ],
   "source": [
    "print(type(data[3][0]))\n",
    "print(type(data))\n",
    "print(data.shape)"
   ]
  },
  {
   "cell_type": "code",
   "execution_count": 398,
   "metadata": {},
   "outputs": [
    {
     "name": "stdout",
     "output_type": "stream",
     "text": [
      "{'crime', 'entertainment'}\n"
     ]
    }
   ],
   "source": [
    "print(set(data[0:5,1]))"
   ]
  },
  {
   "cell_type": "code",
   "execution_count": 399,
   "metadata": {},
   "outputs": [
    {
     "name": "stdout",
     "output_type": "stream",
     "text": [
      "<class 'numpy.ndarray'>\n"
     ]
    }
   ],
   "source": [
    "x = np.array(data[:,2:4])\n",
    "y = np.array(data[:,1])\n",
    "#print(x[0:4])\n",
    "#print(y[0])\n",
    "#print(data[0])\n",
    "#print(x.shape) # (200832, 2)\n",
    "#print(y.shape) # (200832,)\n",
    "print(type(x))"
   ]
  },
  {
   "cell_type": "code",
   "execution_count": 400,
   "metadata": {},
   "outputs": [],
   "source": [
    "X_train, X_test, y_train, y_test = train_test_split(x, y, test_size=0.33)"
   ]
  },
  {
   "cell_type": "code",
   "execution_count": 401,
   "metadata": {},
   "outputs": [
    {
     "name": "stdout",
     "output_type": "stream",
     "text": [
      "(134557, 2)\n",
      "(66275, 2)\n",
      "(134557,)\n",
      "(66275,)\n"
     ]
    }
   ],
   "source": [
    "print(X_train.shape)\n",
    "print(X_test.shape)\n",
    "print(y_train.shape)\n",
    "print(y_test.shape)"
   ]
  },
  {
   "cell_type": "code",
   "execution_count": 402,
   "metadata": {},
   "outputs": [
    {
     "name": "stdout",
     "output_type": "stream",
     "text": [
      "[\"Mom Leaves Message In Her (Grown) Daughter's Lunchbox (PHOTO)\"\n",
      " 'On HuffPost Parents we tend spend a lot of time talking about how we feel about being parents, and far less time on how we']\n",
      "good news\n"
     ]
    }
   ],
   "source": [
    "print(X_train[4])\n",
    "print(y_train[1])"
   ]
  },
  {
   "cell_type": "code",
   "execution_count": 403,
   "metadata": {},
   "outputs": [],
   "source": [
    "# import io\n",
    "\n",
    "# def load_vectors(fname):\n",
    "#     fin = io.open(fname, 'r', encoding='utf-8', newline='\\n', errors='ignore')\n",
    "#     n, d = map(int, fin.readline().split())\n",
    "#     data = {}\n",
    "#     for line in fin:\n",
    "#         tokens = line.rstrip().split(' ')\n",
    "#         data[tokens[0]] = map(float, tokens[1:])\n",
    "#     return data\n",
    "#     "
   ]
  },
  {
   "cell_type": "code",
   "execution_count": 404,
   "metadata": {},
   "outputs": [],
   "source": [
    "#embload_vectors(\"../wiki.en.vec\")"
   ]
  },
  {
   "cell_type": "code",
   "execution_count": 405,
   "metadata": {},
   "outputs": [],
   "source": [
    "corpus_raw = []\n",
    "for i in range(0,x.shape[0]):\n",
    "    for sent in x[i]:\n",
    "        if np.nan_to_num(sent) == 0:        # If short description is missing\n",
    "            corpus_raw.append(\"NA\")         # Necessary, otherwise while feeding training data into NN can cause mismatch\n",
    "        elif np.nan_to_num(sent) != 0:\n",
    "            corpus_raw.append(sent)"
   ]
  },
  {
   "cell_type": "code",
   "execution_count": 406,
   "metadata": {},
   "outputs": [
    {
     "name": "stdout",
     "output_type": "stream",
     "text": [
      "['There Were 2 Mass Shootings In Texas Last Week, But Only 1 On TV', 'She left her husband. He killed their children. Just another day in America.', \"Will Smith Joins Diplo And Nicky Jam For The 2018 World Cup's Official Song\", 'Of course it has a song.', 'Hugh Grant Marries For The First Time At Age 57']\n",
      "(381946,)\n",
      "<class 'str'>\n",
      "It Only Took 56 Years, But Now You Can Actually Have Breakfast At Tiffany's\n"
     ]
    }
   ],
   "source": [
    "print(corpus_raw[0:5])\n",
    "print(np.shape(corpus_raw))\n",
    "print(type(corpus_raw[24199]))\n",
    "#words = corpus_raw[0].split()\n",
    "#print(words)\n",
    "print(np.nan_to_num(corpus_raw[24199]))"
   ]
  },
  {
   "cell_type": "code",
   "execution_count": 407,
   "metadata": {},
   "outputs": [],
   "source": [
    "# # List of words\n",
    "# words2 = []\n",
    "# tokenizer = RegexpTokenizer(r'\\w+')\n",
    "# i = 0\n",
    "# for sent in corpus_raw:\n",
    "#     #words.append(sent.split())\n",
    "#     #i = i + 1\n",
    "#     #print(i)\n",
    "#     for word in tokenizer.tokenize(sent):\n",
    "#         words2.append(word.lower())\n",
    "    \n",
    "# # for i in range(0,len(corpus_raw)):\n",
    "# #     for word in corpus_raw[i].split():\n",
    "# #         if word != '.':       # because we don't want to treat . as a word\n",
    "# #             words.append(word)\n",
    "# #print(type(words))\n",
    "# #words = np.array(words)\n",
    "# #print(type(words))\n",
    "# #print(len(words))\n",
    "# #print(words[0])\n",
    "\n",
    "# Vocab = set(words)    # so that all duplicate words are removed\n",
    "# vocab = list(Vocab)\n",
    "# # vocab = []\n",
    "# # for j in words:\n",
    "# #     if j not in vocab:\n",
    "# #         vocab.append(j)\n",
    "\n",
    "\n",
    "# word2int = {}\n",
    "# int2word = {}\n",
    "# vocab_size = len(vocab)  # gives the total number of unique words\n",
    "\n",
    "# for i,word in enumerate(vocab):\n",
    "#     word2int[word] = i\n",
    "#     int2word[i] = word"
   ]
  },
  {
   "cell_type": "code",
   "execution_count": null,
   "metadata": {},
   "outputs": [],
   "source": [
    "# List of lists of words\n",
    "words = []\n",
    "sentences = []\n",
    "tokenizer = RegexpTokenizer(r'\\w+')\n",
    "i = 0\n",
    "for sent in corpus_raw:\n",
    "    #words.append(sent.split())\n",
    "    #i = i + 1\n",
    "    #print(i)\n",
    "    for word in tokenizer.tokenize(sent):\n",
    "        words.append(word.lower())\n",
    "    sentences.append(words)\n",
    "    words = []\n",
    "# for i in range(0,len(corpus_raw)):\n",
    "#     for word in corpus_raw[i].split():\n",
    "#         if word != '.':       # because we don't want to treat . as a word\n",
    "#             words.append(word)\n",
    "#print(type(words))\n",
    "#words = np.array(words)\n",
    "#print(type(words))\n",
    "#print(len(words))\n",
    "#print(words[0])\n",
    "\n",
    "Vocab = set(words)    # so that all duplicate words are removed\n",
    "vocab = list(Vocab)\n",
    "# vocab = []\n",
    "# for j in words:\n",
    "#     if j not in vocab:\n",
    "#         vocab.append(j)\n",
    "\n",
    "\n",
    "word2int = {}\n",
    "int2word = {}\n",
    "vocab_size = len(vocab)  # gives the total number of unique words\n",
    "\n",
    "for i,word in enumerate(vocab):\n",
    "    word2int[word] = i\n",
    "    int2word[i] = word"
   ]
  },
  {
   "cell_type": "code",
   "execution_count": 425,
   "metadata": {},
   "outputs": [
    {
     "name": "stdout",
     "output_type": "stream",
     "text": [
      "0\n",
      "0\n",
      "[]\n",
      "<class 'list'>\n",
      "0\n",
      "0\n",
      "381946\n",
      "[['There', 'Were', '2', 'Mass', 'Shootings', 'In', 'Texas', 'Last', 'Week', 'But', 'Only', '1', 'On', 'TV'], ['She', 'left', 'her', 'husband', 'He', 'killed', 'their', 'children', 'Just', 'another', 'day', 'in', 'America'], ['Will', 'Smith', 'Joins', 'Diplo', 'And', 'Nicky', 'Jam', 'For', 'The', '2018', 'World', 'Cup', 's', 'Official', 'Song'], ['Of', 'course', 'it', 'has', 'a', 'song'], ['Hugh', 'Grant', 'Marries', 'For', 'The', 'First', 'Time', 'At', 'Age', '57']]\n"
     ]
    }
   ],
   "source": [
    "print(len(words))\n",
    "print(vocab_size)\n",
    "print(words[0:100])\n",
    "print(type(vocab))\n",
    "#Vocab = list(vocab)\n",
    "#print(vocab[0:100])\n",
    "# for i in range(0,5):\n",
    "#     print(i)\n",
    "# for sent in corpus_raw:\n",
    "#     print(type(sent))\n",
    "print(len(word2int))\n",
    "print(len(int2word))\n",
    "#print(int2word)\n",
    "print(len(sentences))\n",
    "print(sentences[0:5])"
   ]
  },
  {
   "cell_type": "code",
   "execution_count": 409,
   "metadata": {},
   "outputs": [],
   "source": [
    "#print(np.shape(words))"
   ]
  },
  {
   "cell_type": "code",
   "execution_count": 426,
   "metadata": {},
   "outputs": [],
   "source": [
    "# print(type(words))\n",
    "# words = np.array(words)\n",
    "# print(type(words))\n",
    "# print(np.shape(words))\n",
    "# print(words[0:100])\n",
    "\n",
    "# #words = np.reshape(words, (200832, 2))\n",
    "# print(words[0][0])\n",
    "sentences = np.array(sentences)"
   ]
  },
  {
   "cell_type": "code",
   "execution_count": 427,
   "metadata": {},
   "outputs": [
    {
     "ename": "IndexError",
     "evalue": "list index out of range",
     "output_type": "error",
     "traceback": [
      "\u001b[0;31m---------------------------------------\u001b[0m",
      "\u001b[0;31mIndexError\u001b[0mTraceback (most recent call last)",
      "\u001b[0;32m<ipython-input-427-158f9fa9be22>\u001b[0m in \u001b[0;36m<module>\u001b[0;34m\u001b[0m\n\u001b[1;32m      1\u001b[0m \u001b[0;31m#print(len(words))\u001b[0m\u001b[0;34m\u001b[0m\u001b[0;34m\u001b[0m\u001b[0m\n\u001b[0;32m----> 2\u001b[0;31m \u001b[0mprint\u001b[0m\u001b[0;34m(\u001b[0m\u001b[0mwords\u001b[0m\u001b[0;34m[\u001b[0m\u001b[0;36m1\u001b[0m\u001b[0;34m]\u001b[0m\u001b[0;34m[\u001b[0m\u001b[0;36m1\u001b[0m\u001b[0;34m]\u001b[0m\u001b[0;34m)\u001b[0m\u001b[0;34m\u001b[0m\u001b[0m\n\u001b[0m",
      "\u001b[0;31mIndexError\u001b[0m: list index out of range"
     ]
    }
   ],
   "source": [
    "#print(len(words))\n",
    "print(words[1][1])"
   ]
  },
  {
   "cell_type": "code",
   "execution_count": 428,
   "metadata": {},
   "outputs": [],
   "source": [
    "# from nltk.tokenize import RegexpTokenizer\n",
    "\n",
    "# tokenizer = RegexpTokenizer(r'\\w+')\n",
    "# words = tokenizer.tokenize('Eighty-seven miles to go, yet.  Onward!')"
   ]
  },
  {
   "cell_type": "code",
   "execution_count": 429,
   "metadata": {},
   "outputs": [],
   "source": [
    "# print(words)         ['Eighty', 'seven', 'miles', 'to', 'go', 'yet', 'Onward']\n",
    "# print(type(words))        <class 'list'>\n",
    "# l = ['wd','wdefe','gte','wd']\n",
    "# s = set(l)\n",
    "# print(s)\n",
    "# print(len(s))\n",
    "# l2 = list(s)\n",
    "# print(l2)"
   ]
  },
  {
   "cell_type": "code",
   "execution_count": 430,
   "metadata": {},
   "outputs": [],
   "source": [
    "# Generating word embeddings using the skip-gram model\n",
    "\n",
    "# embedding_size = 300\n",
    "# embeddings = tf.Variable(tf.random_uniform([vocab_size, embedding_size],-1.0,1.0))\n",
    "\n",
    "# nce_weights = tf.Variable(tf.truncated_normal([vocab_size, embedding_size], stddev=1.0 / math.sqrt(embedding_size)))\n",
    "# nce_biases = tf.Variable(tf.zeros([vocab_size]))\n"
   ]
  },
  {
   "cell_type": "code",
   "execution_count": 431,
   "metadata": {},
   "outputs": [],
   "source": [
    "# import gensim\n",
    "# from gensim.models import Word2Vec\n",
    "# sentences = [[\"cat\", \"say\", \"meow\"], [\"dog\", \"say\", \"woof\"]]\n",
    "# model = Word2Vec(sentences, min_count=1)"
   ]
  },
  {
   "cell_type": "code",
   "execution_count": 432,
   "metadata": {},
   "outputs": [
    {
     "data": {
      "text/plain": [
       "(52514371, 60798860)"
      ]
     },
     "execution_count": 432,
     "metadata": {},
     "output_type": "execute_result"
    }
   ],
   "source": [
    "model_word2vec = Word2Vec(sentences, size=100, window=5, min_count=0,workers=10,sg=0)\n",
    "model_word2vec.train(sentences,total_examples=len(sentences),epochs=10)"
   ]
  },
  {
   "cell_type": "code",
   "execution_count": 436,
   "metadata": {},
   "outputs": [
    {
     "name": "stdout",
     "output_type": "stream",
     "text": [
      "Word2Vec(vocab=119541, size=100, alpha=0.025)\n",
      "[ 2.9507415  -1.4364806   0.543907   -1.8634968   0.0138831  -1.4730201\n",
      "  2.1497371  -0.27662706  1.587733    0.12929875 -1.1910812  -2.7546775\n",
      " -1.4367975  -2.2721393  -0.81524855  3.1702209   1.6889265   1.8339546\n",
      " -2.8942766  -1.3164368  -2.999073    0.1812137  -2.3539155   2.0017002\n",
      "  0.52350795  0.90762967  1.683314    0.6908374  -2.4125056   2.9102743\n",
      " -3.7224164  -1.6977903  -0.33954662  0.33286342 -1.2447898  -0.2366401\n",
      "  3.8855972   0.47160763 -0.649741    1.4677576  -1.4929681   1.7832679\n",
      " -0.0773339   0.8547212   3.8165517  -0.5639625   0.20904487  0.76771194\n",
      "  0.6366037  -1.7921922   1.4920188   2.7681382  -0.67520964  2.471616\n",
      " -0.59816915  0.73817986 -1.3036822   1.6341342   0.6114428  -0.13671347\n",
      " -0.30417973  1.300553   -2.0464275   3.2854102  -1.26831    -1.964249\n",
      "  0.40416524  0.9419923  -2.9739068  -0.4035777   1.2997324  -1.7372062\n",
      " -2.7309673  -2.8066714   2.2001317   0.67895675 -4.909497   -4.630514\n",
      " -1.1990895   2.7356398   0.0523404  -3.9784775   0.783303   -4.689282\n",
      "  3.298606    0.91770965 -1.2811341  -4.2201657   2.311361    3.0721562\n",
      "  0.9787123   0.9911106   2.5752857  -2.9883802   1.2402067   4.6098237\n",
      " -0.9611434  -2.6468675  -0.17527062 -2.6071143 ]\n"
     ]
    },
    {
     "name": "stderr",
     "output_type": "stream",
     "text": [
      "/usr/local/lib/python3.5/dist-packages/ipykernel_launcher.py:2: DeprecationWarning: Call to deprecated `__getitem__` (Method will be removed in 4.0.0, use self.wv.__getitem__() instead).\n",
      "  \n"
     ]
    }
   ],
   "source": [
    "print(model_word2vec)\n",
    "print(model_word2vec['There'])"
   ]
  },
  {
   "cell_type": "code",
   "execution_count": null,
   "metadata": {},
   "outputs": [],
   "source": [
    "from gensim.models.fasttext import FastText as FT\n",
    "# model_fasttext = FT(size=100)\n",
    "# model_fasttext.build_vocab(sentences)\n",
    "# model_fasttext.train(sentences, total_examples=model_fasttext.corpus_count, epochs=model_fasttext.iter)\n",
    "model_ft = FT(sentences = sentences, size = 100, window = 5, min_count = 1,workers=10)\n",
    "model_ft.train(sentences,total_examples=len(sentences),epochs=10)\n",
    "print(model_fasttext)"
   ]
  },
  {
   "cell_type": "code",
   "execution_count": 438,
   "metadata": {},
   "outputs": [
    {
     "name": "stderr",
     "output_type": "stream",
     "text": [
      "/usr/local/lib/python3.5/dist-packages/gensim/matutils.py:737: FutureWarning: Conversion of the second argument of issubdtype from `int` to `np.signedinteger` is deprecated. In future, it will be treated as `np.int64 == np.dtype(int).type`.\n",
      "  if np.issubdtype(vec.dtype, np.int):\n"
     ]
    },
    {
     "data": {
      "text/plain": [
       "[('Theresa', 0.9264094829559326),\n",
       " ('Therefore', 0.859461784362793),\n",
       " ('there', 0.8569209575653076),\n",
       " ('Hemisphere', 0.8568767309188843),\n",
       " ('Theroux', 0.8539478778839111),\n",
       " ('Sphere', 0.8512300848960876),\n",
       " ('adhere', 0.8352080583572388),\n",
       " ('sphere', 0.8059167861938477),\n",
       " ('Ethereal', 0.8024649024009705),\n",
       " ('Atmosphere', 0.801297664642334)]"
      ]
     },
     "execution_count": 438,
     "metadata": {},
     "output_type": "execute_result"
    }
   ],
   "source": [
    "#model_fasttext.wv.most_similar(\"There\")\n",
    "# print(model_fasttext)\n",
    "# model_fasttext.save('Saved_model_fasttext')\n",
    "# loaded_model = FT.load('Saved_model_fasttext')\n",
    "# print(loaded_model)"
   ]
  },
  {
   "cell_type": "code",
   "execution_count": null,
   "metadata": {},
   "outputs": [],
   "source": [
    "#print(model_fasttext['There'])"
   ]
  },
  {
   "cell_type": "code",
   "execution_count": null,
   "metadata": {},
   "outputs": [],
   "source": []
  }
 ],
 "metadata": {
  "kernelspec": {
   "display_name": "Python 3",
   "language": "python",
   "name": "python3"
  },
  "language_info": {
   "codemirror_mode": {
    "name": "ipython",
    "version": 3
   },
   "file_extension": ".py",
   "mimetype": "text/x-python",
   "name": "python",
   "nbconvert_exporter": "python",
   "pygments_lexer": "ipython3",
   "version": "3.5.2"
  }
 },
 "nbformat": 4,
 "nbformat_minor": 2
}
